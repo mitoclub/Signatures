{
 "cells": [
  {
   "cell_type": "code",
   "execution_count": 1,
   "metadata": {},
   "outputs": [],
   "source": [
    "import json\n",
    "from collections import defaultdict\n",
    "\n",
    "import numpy as np\n",
    "import pandas as pd\n",
    "import matplotlib.pyplot as plt"
   ]
  },
  {
   "cell_type": "code",
   "execution_count": 2,
   "metadata": {},
   "outputs": [],
   "source": [
    "PATH_TO_HUMAN_COUNTS = \"../data/codon_counts_GRCh37.json\"\n",
    "PATH_TO_SIGNATURES = \"../data/external/COSMIC_v3.2_SBS_GRCh37.txt\"\n",
    "PATH_TO_SIGNATURES_NORMALIZED = \"../data/COSMIC_v3.2_SBS_GRCh37_normalized.txt\"\n",
    "PATH_TO_MUTSPEC = \"../data/ms96.tsv\""
   ]
  },
  {
   "cell_type": "code",
   "execution_count": 3,
   "metadata": {},
   "outputs": [],
   "source": [
    "translator = str.maketrans(\"ATGC\", \"TACG\")\n"
   ]
  },
  {
   "cell_type": "code",
   "execution_count": 4,
   "metadata": {},
   "outputs": [],
   "source": [
    "def load_triplet_counts(path: str, normalize=False) -> pd.Series:\n",
    "    \"\"\" read and collapse raw trinucleotide counts \"\"\"\n",
    "    considerable_nucs = {\"C\", \"T\"}\n",
    "    with open(path) as fin:\n",
    "        counts = json.load(fin)\n",
    "\n",
    "    new_counts = defaultdict(int)\n",
    "    for trinuc, num in counts.items():\n",
    "        standart_trinuc = trinuc.upper()\n",
    "        if len(set(standart_trinuc).difference(\"ATGC\")) == 0:\n",
    "            if standart_trinuc[1] not in considerable_nucs:\n",
    "                standart_trinuc = standart_trinuc.translate(translator)\n",
    "            new_counts[standart_trinuc] += num\n",
    "            \n",
    "    new_counts = pd.Series(new_counts)\n",
    "    if normalize:\n",
    "        new_counts = new_counts / new_counts.median()\n",
    "    return new_counts.sort_index()"
   ]
  },
  {
   "cell_type": "code",
   "execution_count": 5,
   "metadata": {},
   "outputs": [],
   "source": [
    "human_triplet_counts = load_triplet_counts(PATH_TO_HUMAN_COUNTS, True)\n",
    "signatures = pd.read_csv(PATH_TO_SIGNATURES, sep=\"\\t\", index_col=0)\n",
    "signatures_norm = pd.read_csv(PATH_TO_SIGNATURES_NORMALIZED, sep=\"\\t\", index_col=0)\n",
    "mutspec = pd.read_csv(PATH_TO_MUTSPEC, sep=\"\\t\")"
   ]
  },
  {
   "cell_type": "code",
   "execution_count": 6,
   "metadata": {},
   "outputs": [
    {
     "data": {
      "text/html": [
       "<div>\n",
       "<style scoped>\n",
       "    .dataframe tbody tr th:only-of-type {\n",
       "        vertical-align: middle;\n",
       "    }\n",
       "\n",
       "    .dataframe tbody tr th {\n",
       "        vertical-align: top;\n",
       "    }\n",
       "\n",
       "    .dataframe thead th {\n",
       "        text-align: right;\n",
       "    }\n",
       "</style>\n",
       "<table border=\"1\" class=\"dataframe\">\n",
       "  <thead>\n",
       "    <tr style=\"text-align: right;\">\n",
       "      <th></th>\n",
       "      <th>Mutation Types</th>\n",
       "      <th>sars-cov-2_ff_m</th>\n",
       "    </tr>\n",
       "  </thead>\n",
       "  <tbody>\n",
       "    <tr>\n",
       "      <th>0</th>\n",
       "      <td>A[C&gt;A]A</td>\n",
       "      <td>88.209302</td>\n",
       "    </tr>\n",
       "    <tr>\n",
       "      <th>1</th>\n",
       "      <td>A[C&gt;A]C</td>\n",
       "      <td>77.825000</td>\n",
       "    </tr>\n",
       "    <tr>\n",
       "      <th>2</th>\n",
       "      <td>A[C&gt;A]G</td>\n",
       "      <td>84.454545</td>\n",
       "    </tr>\n",
       "    <tr>\n",
       "      <th>3</th>\n",
       "      <td>A[C&gt;A]T</td>\n",
       "      <td>89.534884</td>\n",
       "    </tr>\n",
       "    <tr>\n",
       "      <th>4</th>\n",
       "      <td>A[C&gt;G]A</td>\n",
       "      <td>3.860465</td>\n",
       "    </tr>\n",
       "  </tbody>\n",
       "</table>\n",
       "</div>"
      ],
      "text/plain": [
       "  Mutation Types  sars-cov-2_ff_m\n",
       "0        A[C>A]A        88.209302\n",
       "1        A[C>A]C        77.825000\n",
       "2        A[C>A]G        84.454545\n",
       "3        A[C>A]T        89.534884\n",
       "4        A[C>G]A         3.860465"
      ]
     },
     "execution_count": 6,
     "metadata": {},
     "output_type": "execute_result"
    }
   ],
   "source": [
    "mutspec.head()"
   ]
  },
  {
   "cell_type": "code",
   "execution_count": 83,
   "metadata": {},
   "outputs": [
    {
     "data": {
      "text/plain": [
       "<AxesSubplot:>"
      ]
     },
     "execution_count": 83,
     "metadata": {},
     "output_type": "execute_result"
    },
    {
     "data": {
      "image/png": "[encoded data removed]",
      "text/plain": [
       "<Figure size 576x396 with 1 Axes>"
      ]
     },
     "metadata": {},
     "output_type": "display_data"
    }
   ],
   "source": [
    "human_triplet_counts.plot.bar()"
   ]
  },
  {
   "cell_type": "code",
   "execution_count": 84,
   "metadata": {},
   "outputs": [],
   "source": [
    "mutspec[\"Context\"] = mutspec[\"Mutation Types\"].str.extract(\n",
    "    \"(\\w)\\[(\\w)>\\w\\](\\w)\").apply(lambda x: \"\".join(x), axis=1)"
   ]
  },
  {
   "cell_type": "code",
   "execution_count": 85,
   "metadata": {},
   "outputs": [
    {
     "data": {
      "text/html": [
       "<div>\n",
       "<style scoped>\n",
       "    .dataframe tbody tr th:only-of-type {\n",
       "        vertical-align: middle;\n",
       "    }\n",
       "\n",
       "    .dataframe tbody tr th {\n",
       "        vertical-align: top;\n",
       "    }\n",
       "\n",
       "    .dataframe thead th {\n",
       "        text-align: right;\n",
       "    }\n",
       "</style>\n",
       "<table border=\"1\" class=\"dataframe\">\n",
       "  <thead>\n",
       "    <tr style=\"text-align: right;\">\n",
       "      <th></th>\n",
       "      <th>Mutation Types</th>\n",
       "      <th>sars-cov-2_ff_m</th>\n",
       "      <th>Context</th>\n",
       "    </tr>\n",
       "  </thead>\n",
       "  <tbody>\n",
       "    <tr>\n",
       "      <th>0</th>\n",
       "      <td>A[C&gt;A]A</td>\n",
       "      <td>88.209302</td>\n",
       "      <td>ACA</td>\n",
       "    </tr>\n",
       "    <tr>\n",
       "      <th>1</th>\n",
       "      <td>A[C&gt;A]C</td>\n",
       "      <td>77.825000</td>\n",
       "      <td>ACC</td>\n",
       "    </tr>\n",
       "    <tr>\n",
       "      <th>2</th>\n",
       "      <td>A[C&gt;A]G</td>\n",
       "      <td>84.454545</td>\n",
       "      <td>ACG</td>\n",
       "    </tr>\n",
       "    <tr>\n",
       "      <th>3</th>\n",
       "      <td>A[C&gt;A]T</td>\n",
       "      <td>89.534884</td>\n",
       "      <td>ACT</td>\n",
       "    </tr>\n",
       "    <tr>\n",
       "      <th>4</th>\n",
       "      <td>A[C&gt;G]A</td>\n",
       "      <td>3.860465</td>\n",
       "      <td>ACA</td>\n",
       "    </tr>\n",
       "  </tbody>\n",
       "</table>\n",
       "</div>"
      ],
      "text/plain": [
       "  Mutation Types  sars-cov-2_ff_m Context\n",
       "0        A[C>A]A        88.209302     ACA\n",
       "1        A[C>A]C        77.825000     ACC\n",
       "2        A[C>A]G        84.454545     ACG\n",
       "3        A[C>A]T        89.534884     ACT\n",
       "4        A[C>G]A         3.860465     ACA"
      ]
     },
     "execution_count": 85,
     "metadata": {},
     "output_type": "execute_result"
    }
   ],
   "source": [
    "mutspec.head()"
   ]
  },
  {
   "cell_type": "code",
   "execution_count": 99,
   "metadata": {},
   "outputs": [],
   "source": [
    "triplet_freqs = human_triplet_counts.reset_index(name=\"Freq\").rename({\"index\": \"Context\"}, axis=1)"
   ]
  },
  {
   "cell_type": "code",
   "execution_count": 109,
   "metadata": {},
   "outputs": [
    {
     "data": {
      "text/html": [
       "<div>\n",
       "<style scoped>\n",
       "    .dataframe tbody tr th:only-of-type {\n",
       "        vertical-align: middle;\n",
       "    }\n",
       "\n",
       "    .dataframe tbody tr th {\n",
       "        vertical-align: top;\n",
       "    }\n",
       "\n",
       "    .dataframe thead th {\n",
       "        text-align: right;\n",
       "    }\n",
       "</style>\n",
       "<table border=\"1\" class=\"dataframe\">\n",
       "  <thead>\n",
       "    <tr style=\"text-align: right;\">\n",
       "      <th></th>\n",
       "      <th>Mutation Types</th>\n",
       "      <th>sars-cov-2_ff_m</th>\n",
       "      <th>Context</th>\n",
       "      <th>Freq</th>\n",
       "    </tr>\n",
       "  </thead>\n",
       "  <tbody>\n",
       "    <tr>\n",
       "      <th>0</th>\n",
       "      <td>A[C&gt;A]A</td>\n",
       "      <td>88.209302</td>\n",
       "      <td>ACA</td>\n",
       "      <td>1.334506</td>\n",
       "    </tr>\n",
       "    <tr>\n",
       "      <th>3</th>\n",
       "      <td>A[C&gt;A]C</td>\n",
       "      <td>77.825000</td>\n",
       "      <td>ACC</td>\n",
       "      <td>1.000506</td>\n",
       "    </tr>\n",
       "    <tr>\n",
       "      <th>6</th>\n",
       "      <td>A[C&gt;A]G</td>\n",
       "      <td>84.454545</td>\n",
       "      <td>ACG</td>\n",
       "      <td>0.561735</td>\n",
       "    </tr>\n",
       "    <tr>\n",
       "      <th>9</th>\n",
       "      <td>A[C&gt;A]T</td>\n",
       "      <td>89.534884</td>\n",
       "      <td>ACT</td>\n",
       "      <td>1.180098</td>\n",
       "    </tr>\n",
       "    <tr>\n",
       "      <th>1</th>\n",
       "      <td>A[C&gt;G]A</td>\n",
       "      <td>3.860465</td>\n",
       "      <td>ACA</td>\n",
       "      <td>1.334506</td>\n",
       "    </tr>\n",
       "  </tbody>\n",
       "</table>\n",
       "</div>"
      ],
      "text/plain": [
       "  Mutation Types  sars-cov-2_ff_m Context      Freq\n",
       "0        A[C>A]A        88.209302     ACA  1.334506\n",
       "3        A[C>A]C        77.825000     ACC  1.000506\n",
       "6        A[C>A]G        84.454545     ACG  0.561735\n",
       "9        A[C>A]T        89.534884     ACT  1.180098\n",
       "1        A[C>G]A         3.860465     ACA  1.334506"
      ]
     },
     "execution_count": 109,
     "metadata": {},
     "output_type": "execute_result"
    }
   ],
   "source": [
    "ext_mutspec = pd.merge(mutspec, triplet_freqs, on=\"Context\").sort_values(\"Mutation Types\")\n",
    "ext_mutspec.head()"
   ]
  },
  {
   "cell_type": "code",
   "execution_count": 110,
   "metadata": {},
   "outputs": [],
   "source": [
    "additional_cols = {\"Context\", \"Freq\", \"Mutation Types\"}\n",
    "for c in ext_mutspec.columns:\n",
    "    if c in additional_cols:\n",
    "        continue\n",
    "    for lbl, func in [(\"floor\", np.floor), (\"ceil\", np.ceil)]:\n",
    "        ext_mutspec[f\"{c}_{lbl}\"] = func(ext_mutspec[c] * ext_mutspec[\"Freq\"]).astype(int)\n",
    "    ext_mutspec.drop(c, axis=1, inplace=True)\n",
    "ext_mutspec.drop([\"Context\", \"Freq\"], axis=1, inplace=True)"
   ]
  },
  {
   "cell_type": "code",
   "execution_count": 111,
   "metadata": {},
   "outputs": [],
   "source": [
    "ext_mutspec.to_csv(\"../data/ms96_norm_to_human.tsv\", sep=\"\\t\", index=None)"
   ]
  },
  {
   "cell_type": "code",
   "execution_count": null,
   "metadata": {},
   "outputs": [],
   "source": []
  },
  {
   "cell_type": "code",
   "execution_count": null,
   "metadata": {},
   "outputs": [],
   "source": []
  },
  {
   "cell_type": "code",
   "execution_count": null,
   "metadata": {},
   "outputs": [],
   "source": []
  },
  {
   "cell_type": "code",
   "execution_count": null,
   "metadata": {},
   "outputs": [],
   "source": []
  }
 ],
 "metadata": {
  "interpreter": {
   "hash": "4ec696e130f4ae2e6662888ed4303ac3a720a8940385c9eb6ce9672eff464995"
  },
  "kernelspec": {
   "display_name": "Python 3.8.10 ('env_signatures': venv)",
   "language": "python",
   "name": "python3"
  },
  "language_info": {
   "codemirror_mode": {
    "name": "ipython",
    "version": 3
   },
   "file_extension": ".py",
   "mimetype": "text/x-python",
   "name": "python",
   "nbconvert_exporter": "python",
   "pygments_lexer": "ipython3",
   "version": "3.9.5"
  },
  "orig_nbformat": 4
 },
 "nbformat": 4,
 "nbformat_minor": 2
}
