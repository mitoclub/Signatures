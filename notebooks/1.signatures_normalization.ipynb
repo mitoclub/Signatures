{
 "cells": [
  {
   "cell_type": "code",
   "execution_count": 2,
   "metadata": {},
   "outputs": [],
   "source": [
    "import json\n",
    "from collections import defaultdict\n",
    "\n",
    "import numpy as np\n",
    "import pandas as pd\n",
    "import matplotlib.pyplot as plt\n",
    "import seaborn as sns\n",
    "from scipy.spatial.distance import cosine\n",
    "from scipy import stats"
   ]
  },
  {
   "cell_type": "code",
   "execution_count": 3,
   "metadata": {},
   "outputs": [],
   "source": [
    "PATH_TO_HUMAN_COUNTS = \"../data/interim/GRCh37_codon_counts.json\"\n",
    "PATH_TO_SIGNATURES = \"../data/external/reference_sig_GRCh37/COSMIC_v3.2_SBS_GRCh37.txt\"\n",
    "PATH_TO_SIGNATURES_NORMALIZED = \"../data/interim/COSMIC_v3.2_SBS_GRCh37_normalized.txt\""
   ]
  },
  {
   "cell_type": "code",
   "execution_count": 4,
   "metadata": {},
   "outputs": [],
   "source": [
    "def load_triplet_counts(path: str):\n",
    "    \"\"\" read and collapse raw trinucleotide counts \"\"\"\n",
    "    with open(path) as fin:\n",
    "        counts = json.load(fin)\n",
    "\n",
    "    new_counts = defaultdict(int)\n",
    "    for trinuc, num in counts.items():\n",
    "        standart_trinuc = trinuc.upper()\n",
    "        if len(set(standart_trinuc).difference(\"ATGC\")) == 0:\n",
    "            new_counts[standart_trinuc] += num\n",
    "    return new_counts\n"
   ]
  },
  {
   "cell_type": "code",
   "execution_count": 84,
   "metadata": {},
   "outputs": [],
   "source": [
    "triplet_counts = pd.Series(load_triplet_counts(PATH_TO_HUMAN_COUNTS))\n",
    "signatures = pd.read_csv(PATH_TO_SIGNATURES, sep=\"\\t\", index_col=0)\n",
    "signatures_norm = pd.read_csv(PATH_TO_SIGNATURES_NORMALIZED, sep=\"\\t\", index_col=0)"
   ]
  },
  {
   "cell_type": "code",
   "execution_count": 91,
   "metadata": {},
   "outputs": [
    {
     "data": {
      "text/plain": [
       "TAA    61780796\n",
       "AAC    43438625\n",
       "ACC    34902100\n",
       "CCC    39661785\n",
       "CCT    53384677\n",
       "dtype: int64"
      ]
     },
     "execution_count": 91,
     "metadata": {},
     "output_type": "execute_result"
    }
   ],
   "source": [
    "triplet_counts.head(5)"
   ]
  },
  {
   "cell_type": "code",
   "execution_count": 67,
   "metadata": {},
   "outputs": [
    {
     "data": {
      "text/html": [
       "<div>\n",
       "<style scoped>\n",
       "    .dataframe tbody tr th:only-of-type {\n",
       "        vertical-align: middle;\n",
       "    }\n",
       "\n",
       "    .dataframe tbody tr th {\n",
       "        vertical-align: top;\n",
       "    }\n",
       "\n",
       "    .dataframe thead th {\n",
       "        text-align: right;\n",
       "    }\n",
       "</style>\n",
       "<table border=\"1\" class=\"dataframe\">\n",
       "  <thead>\n",
       "    <tr style=\"text-align: right;\">\n",
       "      <th></th>\n",
       "      <th>SBS1</th>\n",
       "      <th>SBS2</th>\n",
       "      <th>SBS3</th>\n",
       "      <th>SBS4</th>\n",
       "      <th>SBS5</th>\n",
       "      <th>SBS6</th>\n",
       "      <th>SBS7a</th>\n",
       "      <th>SBS7b</th>\n",
       "      <th>SBS7c</th>\n",
       "      <th>SBS7d</th>\n",
       "      <th>...</th>\n",
       "      <th>SBS85</th>\n",
       "      <th>SBS86</th>\n",
       "      <th>SBS87</th>\n",
       "      <th>SBS88</th>\n",
       "      <th>SBS89</th>\n",
       "      <th>SBS90</th>\n",
       "      <th>SBS91</th>\n",
       "      <th>SBS92</th>\n",
       "      <th>SBS93</th>\n",
       "      <th>SBS94</th>\n",
       "    </tr>\n",
       "    <tr>\n",
       "      <th>Type</th>\n",
       "      <th></th>\n",
       "      <th></th>\n",
       "      <th></th>\n",
       "      <th></th>\n",
       "      <th></th>\n",
       "      <th></th>\n",
       "      <th></th>\n",
       "      <th></th>\n",
       "      <th></th>\n",
       "      <th></th>\n",
       "      <th></th>\n",
       "      <th></th>\n",
       "      <th></th>\n",
       "      <th></th>\n",
       "      <th></th>\n",
       "      <th></th>\n",
       "      <th></th>\n",
       "      <th></th>\n",
       "      <th></th>\n",
       "      <th></th>\n",
       "      <th></th>\n",
       "    </tr>\n",
       "  </thead>\n",
       "  <tbody>\n",
       "    <tr>\n",
       "      <th>A[C&gt;A]A</th>\n",
       "      <td>0.000886</td>\n",
       "      <td>5.800168e-07</td>\n",
       "      <td>0.020808</td>\n",
       "      <td>0.042196</td>\n",
       "      <td>0.011998</td>\n",
       "      <td>0.000425</td>\n",
       "      <td>0.000067</td>\n",
       "      <td>0.002329</td>\n",
       "      <td>0.004830</td>\n",
       "      <td>0.000040</td>\n",
       "      <td>...</td>\n",
       "      <td>0.006080</td>\n",
       "      <td>0.002954</td>\n",
       "      <td>0.008973</td>\n",
       "      <td>0.0</td>\n",
       "      <td>0.032169</td>\n",
       "      <td>0.002202</td>\n",
       "      <td>0.002945</td>\n",
       "      <td>0.011329</td>\n",
       "      <td>0.011573</td>\n",
       "      <td>0.015580</td>\n",
       "    </tr>\n",
       "    <tr>\n",
       "      <th>A[C&gt;A]C</th>\n",
       "      <td>0.002280</td>\n",
       "      <td>1.480043e-04</td>\n",
       "      <td>0.016507</td>\n",
       "      <td>0.033297</td>\n",
       "      <td>0.009438</td>\n",
       "      <td>0.000524</td>\n",
       "      <td>0.000179</td>\n",
       "      <td>0.000461</td>\n",
       "      <td>0.001150</td>\n",
       "      <td>0.000765</td>\n",
       "      <td>...</td>\n",
       "      <td>0.000880</td>\n",
       "      <td>0.003775</td>\n",
       "      <td>0.004573</td>\n",
       "      <td>0.0</td>\n",
       "      <td>0.017694</td>\n",
       "      <td>0.000708</td>\n",
       "      <td>0.052997</td>\n",
       "      <td>0.009745</td>\n",
       "      <td>0.008096</td>\n",
       "      <td>0.024746</td>\n",
       "    </tr>\n",
       "    <tr>\n",
       "      <th>A[C&gt;A]G</th>\n",
       "      <td>0.000177</td>\n",
       "      <td>5.230151e-05</td>\n",
       "      <td>0.001751</td>\n",
       "      <td>0.015599</td>\n",
       "      <td>0.001850</td>\n",
       "      <td>0.000052</td>\n",
       "      <td>0.000071</td>\n",
       "      <td>0.000186</td>\n",
       "      <td>0.000377</td>\n",
       "      <td>0.000250</td>\n",
       "      <td>...</td>\n",
       "      <td>0.000306</td>\n",
       "      <td>0.000385</td>\n",
       "      <td>0.006209</td>\n",
       "      <td>0.0</td>\n",
       "      <td>0.009671</td>\n",
       "      <td>0.000139</td>\n",
       "      <td>0.000204</td>\n",
       "      <td>0.004697</td>\n",
       "      <td>0.001761</td>\n",
       "      <td>0.001574</td>\n",
       "    </tr>\n",
       "  </tbody>\n",
       "</table>\n",
       "<p>3 rows × 78 columns</p>\n",
       "</div>"
      ],
      "text/plain": [
       "             SBS1          SBS2      SBS3      SBS4      SBS5      SBS6  \\\n",
       "Type                                                                      \n",
       "A[C>A]A  0.000886  5.800168e-07  0.020808  0.042196  0.011998  0.000425   \n",
       "A[C>A]C  0.002280  1.480043e-04  0.016507  0.033297  0.009438  0.000524   \n",
       "A[C>A]G  0.000177  5.230151e-05  0.001751  0.015599  0.001850  0.000052   \n",
       "\n",
       "            SBS7a     SBS7b     SBS7c     SBS7d  ...     SBS85     SBS86  \\\n",
       "Type                                             ...                       \n",
       "A[C>A]A  0.000067  0.002329  0.004830  0.000040  ...  0.006080  0.002954   \n",
       "A[C>A]C  0.000179  0.000461  0.001150  0.000765  ...  0.000880  0.003775   \n",
       "A[C>A]G  0.000071  0.000186  0.000377  0.000250  ...  0.000306  0.000385   \n",
       "\n",
       "            SBS87  SBS88     SBS89     SBS90     SBS91     SBS92     SBS93  \\\n",
       "Type                                                                         \n",
       "A[C>A]A  0.008973    0.0  0.032169  0.002202  0.002945  0.011329  0.011573   \n",
       "A[C>A]C  0.004573    0.0  0.017694  0.000708  0.052997  0.009745  0.008096   \n",
       "A[C>A]G  0.006209    0.0  0.009671  0.000139  0.000204  0.004697  0.001761   \n",
       "\n",
       "            SBS94  \n",
       "Type               \n",
       "A[C>A]A  0.015580  \n",
       "A[C>A]C  0.024746  \n",
       "A[C>A]G  0.001574  \n",
       "\n",
       "[3 rows x 78 columns]"
      ]
     },
     "execution_count": 67,
     "metadata": {},
     "output_type": "execute_result"
    }
   ],
   "source": [
    "signatures.head(3)"
   ]
  },
  {
   "cell_type": "code",
   "execution_count": 68,
   "metadata": {},
   "outputs": [
    {
     "data": {
      "text/html": [
       "<div>\n",
       "<style scoped>\n",
       "    .dataframe tbody tr th:only-of-type {\n",
       "        vertical-align: middle;\n",
       "    }\n",
       "\n",
       "    .dataframe tbody tr th {\n",
       "        vertical-align: top;\n",
       "    }\n",
       "\n",
       "    .dataframe thead th {\n",
       "        text-align: right;\n",
       "    }\n",
       "</style>\n",
       "<table border=\"1\" class=\"dataframe\">\n",
       "  <thead>\n",
       "    <tr style=\"text-align: right;\">\n",
       "      <th></th>\n",
       "      <th>SBS1</th>\n",
       "      <th>SBS2</th>\n",
       "      <th>SBS3</th>\n",
       "      <th>SBS4</th>\n",
       "      <th>SBS5</th>\n",
       "      <th>SBS6</th>\n",
       "      <th>SBS7a</th>\n",
       "      <th>SBS7b</th>\n",
       "      <th>SBS7c</th>\n",
       "      <th>SBS7d</th>\n",
       "      <th>...</th>\n",
       "      <th>SBS85</th>\n",
       "      <th>SBS86</th>\n",
       "      <th>SBS87</th>\n",
       "      <th>SBS88</th>\n",
       "      <th>SBS89</th>\n",
       "      <th>SBS90</th>\n",
       "      <th>SBS91</th>\n",
       "      <th>SBS92</th>\n",
       "      <th>SBS93</th>\n",
       "      <th>SBS94</th>\n",
       "    </tr>\n",
       "    <tr>\n",
       "      <th>Type</th>\n",
       "      <th></th>\n",
       "      <th></th>\n",
       "      <th></th>\n",
       "      <th></th>\n",
       "      <th></th>\n",
       "      <th></th>\n",
       "      <th></th>\n",
       "      <th></th>\n",
       "      <th></th>\n",
       "      <th></th>\n",
       "      <th></th>\n",
       "      <th></th>\n",
       "      <th></th>\n",
       "      <th></th>\n",
       "      <th></th>\n",
       "      <th></th>\n",
       "      <th></th>\n",
       "      <th></th>\n",
       "      <th></th>\n",
       "      <th></th>\n",
       "      <th></th>\n",
       "    </tr>\n",
       "  </thead>\n",
       "  <tbody>\n",
       "    <tr>\n",
       "      <th>A[C&gt;A]A</th>\n",
       "      <td>0.000805</td>\n",
       "      <td>5.269032e-07</td>\n",
       "      <td>0.018903</td>\n",
       "      <td>0.038332</td>\n",
       "      <td>0.010899</td>\n",
       "      <td>0.000386</td>\n",
       "      <td>0.000061</td>\n",
       "      <td>0.002116</td>\n",
       "      <td>0.004388</td>\n",
       "      <td>0.000037</td>\n",
       "      <td>...</td>\n",
       "      <td>0.005523</td>\n",
       "      <td>0.002684</td>\n",
       "      <td>0.008151</td>\n",
       "      <td>0.0</td>\n",
       "      <td>0.029223</td>\n",
       "      <td>0.002000</td>\n",
       "      <td>0.002675</td>\n",
       "      <td>0.010292</td>\n",
       "      <td>0.010513</td>\n",
       "      <td>0.014153</td>\n",
       "    </tr>\n",
       "    <tr>\n",
       "      <th>A[C&gt;A]C</th>\n",
       "      <td>0.002875</td>\n",
       "      <td>1.865811e-04</td>\n",
       "      <td>0.020809</td>\n",
       "      <td>0.041976</td>\n",
       "      <td>0.011898</td>\n",
       "      <td>0.000661</td>\n",
       "      <td>0.000226</td>\n",
       "      <td>0.000581</td>\n",
       "      <td>0.001450</td>\n",
       "      <td>0.000964</td>\n",
       "      <td>...</td>\n",
       "      <td>0.001109</td>\n",
       "      <td>0.004758</td>\n",
       "      <td>0.005764</td>\n",
       "      <td>0.0</td>\n",
       "      <td>0.022306</td>\n",
       "      <td>0.000893</td>\n",
       "      <td>0.066811</td>\n",
       "      <td>0.012285</td>\n",
       "      <td>0.010207</td>\n",
       "      <td>0.031196</td>\n",
       "    </tr>\n",
       "  </tbody>\n",
       "</table>\n",
       "<p>2 rows × 78 columns</p>\n",
       "</div>"
      ],
      "text/plain": [
       "             SBS1          SBS2      SBS3      SBS4      SBS5      SBS6  \\\n",
       "Type                                                                      \n",
       "A[C>A]A  0.000805  5.269032e-07  0.018903  0.038332  0.010899  0.000386   \n",
       "A[C>A]C  0.002875  1.865811e-04  0.020809  0.041976  0.011898  0.000661   \n",
       "\n",
       "            SBS7a     SBS7b     SBS7c     SBS7d  ...     SBS85     SBS86  \\\n",
       "Type                                             ...                       \n",
       "A[C>A]A  0.000061  0.002116  0.004388  0.000037  ...  0.005523  0.002684   \n",
       "A[C>A]C  0.000226  0.000581  0.001450  0.000964  ...  0.001109  0.004758   \n",
       "\n",
       "            SBS87  SBS88     SBS89     SBS90     SBS91     SBS92     SBS93  \\\n",
       "Type                                                                         \n",
       "A[C>A]A  0.008151    0.0  0.029223  0.002000  0.002675  0.010292  0.010513   \n",
       "A[C>A]C  0.005764    0.0  0.022306  0.000893  0.066811  0.012285  0.010207   \n",
       "\n",
       "            SBS94  \n",
       "Type               \n",
       "A[C>A]A  0.014153  \n",
       "A[C>A]C  0.031196  \n",
       "\n",
       "[2 rows x 78 columns]"
      ]
     },
     "execution_count": 68,
     "metadata": {},
     "output_type": "execute_result"
    }
   ],
   "source": [
    "signatures_norm.head(2)"
   ]
  },
  {
   "cell_type": "markdown",
   "metadata": {},
   "source": [
    "## Trinucleotide frequencies distribution"
   ]
  },
  {
   "cell_type": "code",
   "execution_count": 144,
   "metadata": {},
   "outputs": [
    {
     "data": {
      "image/png": "[encoded data removed]",
      "text/plain": [
       "<Figure size 1008x432 with 1 Axes>"
      ]
     },
     "metadata": {
      "needs_background": "light"
     },
     "output_type": "display_data"
    }
   ],
   "source": [
    "plt.figure(figsize=(14, 6))\n",
    "(triplet_counts / triplet_counts.sum()).sort_index().plot.bar()\n",
    "plt.ylabel(\"Frequency\")\n",
    "plt.title(\"Trinucleotide frequencies distribution\")\n",
    "plt.show()"
   ]
  },
  {
   "cell_type": "markdown",
   "metadata": {},
   "source": [
    "**Result**: Distribution is somewhere uniform, but there are a lot of imbalances. Therefore normalization is required"
   ]
  },
  {
   "cell_type": "markdown",
   "metadata": {},
   "source": [
    "## Difference between default and normalized signatures.\n",
    "(COSMIC signatures was normalized to GRCh37 trinucleotide frequency)"
   ]
  },
  {
   "cell_type": "code",
   "execution_count": 75,
   "metadata": {},
   "outputs": [
    {
     "data": {
      "image/png": "[encoded data removed]",
      "text/plain": [
       "<Figure size 576x504 with 2 Axes>"
      ]
     },
     "metadata": {
      "needs_background": "light"
     },
     "output_type": "display_data"
    }
   ],
   "source": [
    "plt.figure(figsize=(8, 7))\n",
    "sns.heatmap((signatures - signatures_norm).abs(), cmap=\"Blues\")\n",
    "plt.title(\"Absolute difference between normed and default signatures values\")\n",
    "plt.show()"
   ]
  },
  {
   "cell_type": "code",
   "execution_count": 57,
   "metadata": {},
   "outputs": [],
   "source": [
    "dist = dict()\n",
    "for sbs in signatures.columns:\n",
    "    u, v = signatures[sbs], signatures_norm[sbs]\n",
    "    d = cosine(u, v)\n",
    "    dist[sbs] = d"
   ]
  },
  {
   "cell_type": "code",
   "execution_count": 74,
   "metadata": {},
   "outputs": [
    {
     "data": {
      "image/png": "[encoded data removed]",
      "text/plain": [
       "<Figure size 432x288 with 1 Axes>"
      ]
     },
     "metadata": {
      "needs_background": "light"
     },
     "output_type": "display_data"
    }
   ],
   "source": [
    "pd.Series(dist).plot.hist(bins=15)\n",
    "plt.title(\"Cosine distance between normalized and default signatures\")\n",
    "plt.xlabel(\"Cosine distance\")\n",
    "plt.show()"
   ]
  },
  {
   "cell_type": "markdown",
   "metadata": {},
   "source": [
    "**Result**: there are strong difference --> normalization have effect "
   ]
  },
  {
   "cell_type": "code",
   "execution_count": null,
   "metadata": {},
   "outputs": [],
   "source": []
  }
 ],
 "metadata": {
  "interpreter": {
   "hash": "83bd03093b1f97d02e95179d11f9204d360d54a8aa0e9fc5b3a7aced7c03bbd9"
  },
  "kernelspec": {
   "display_name": "Python 3.9.5 64-bit ('env': venv)",
   "language": "python",
   "name": "python3"
  },
  "language_info": {
   "codemirror_mode": {
    "name": "ipython",
    "version": 3
   },
   "file_extension": ".py",
   "mimetype": "text/x-python",
   "name": "python",
   "nbconvert_exporter": "python",
   "pygments_lexer": "ipython3",
   "version": "3.8.10"
  },
  "orig_nbformat": 4
 },
 "nbformat": 4,
 "nbformat_minor": 2
}
