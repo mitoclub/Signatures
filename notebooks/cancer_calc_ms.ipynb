{
 "cells": [
  {
   "cell_type": "code",
   "execution_count": 2,
   "metadata": {},
   "outputs": [],
   "source": [
    "import os\n",
    "import sys\n",
    "from collections import defaultdict\n",
    "from functools import reduce, partial\n",
    "from typing import List, Set, Tuple, Union\n",
    "\n",
    "import numpy as np\n",
    "import pandas as pd\n",
    "import matplotlib\n",
    "import matplotlib.pyplot as plt\n",
    "import seaborn as sns\n",
    "from Bio.Data import CodonTable\n",
    "from Bio.Data.CodonTable import NCBICodonTableDNA\n",
    "from Bio import SeqIO\n",
    "\n",
    "from mutspec.utils import read_genbank_ref, calculate_mutspec, CodonAnnotation"
   ]
  },
  {
   "cell_type": "markdown",
   "metadata": {},
   "source": [
    "### Observed mutations"
   ]
  },
  {
   "cell_type": "code",
   "execution_count": 3,
   "metadata": {},
   "outputs": [
    {
     "data": {
      "text/html": [
       "<div>\n",
       "<style scoped>\n",
       "    .dataframe tbody tr th:only-of-type {\n",
       "        vertical-align: middle;\n",
       "    }\n",
       "\n",
       "    .dataframe tbody tr th {\n",
       "        vertical-align: top;\n",
       "    }\n",
       "\n",
       "    .dataframe thead th {\n",
       "        text-align: right;\n",
       "    }\n",
       "</style>\n",
       "<table border=\"1\" class=\"dataframe\">\n",
       "  <thead>\n",
       "    <tr style=\"text-align: right;\">\n",
       "      <th></th>\n",
       "      <th>tissue</th>\n",
       "      <th>position</th>\n",
       "      <th>ref</th>\n",
       "      <th>var</th>\n",
       "      <th>Annot</th>\n",
       "      <th>Unnamed: 34</th>\n",
       "      <th>Unnamed: 35</th>\n",
       "      <th>is_nonsense</th>\n",
       "    </tr>\n",
       "  </thead>\n",
       "  <tbody>\n",
       "    <tr>\n",
       "      <th>0</th>\n",
       "      <td>BLCA</td>\n",
       "      <td>2680</td>\n",
       "      <td>T</td>\n",
       "      <td>C</td>\n",
       "      <td>ncUTR,MT-RNR2,MT-RNR2,exon1,,,1;</td>\n",
       "      <td>CCAGTGAAAT</td>\n",
       "      <td>GACCTGCCCG</td>\n",
       "      <td>0</td>\n",
       "    </tr>\n",
       "    <tr>\n",
       "      <th>1</th>\n",
       "      <td>BLCA</td>\n",
       "      <td>6011</td>\n",
       "      <td>T</td>\n",
       "      <td>C</td>\n",
       "      <td>synSNP,MT-CO1,MT-CO1,exon1,L36L,5,1;</td>\n",
       "      <td>TAAGCCTCCT</td>\n",
       "      <td>ATTCGAGCCG</td>\n",
       "      <td>0</td>\n",
       "    </tr>\n",
       "    <tr>\n",
       "      <th>2</th>\n",
       "      <td>BLCA</td>\n",
       "      <td>7706</td>\n",
       "      <td>G</td>\n",
       "      <td>A</td>\n",
       "      <td>nsSNP,MT-CO2,MT-CO2,exon1,A41T,0,1;</td>\n",
       "      <td>AGTCCTGTAT</td>\n",
       "      <td>CCCTTTTCCT</td>\n",
       "      <td>0</td>\n",
       "    </tr>\n",
       "    <tr>\n",
       "      <th>3</th>\n",
       "      <td>BLCA</td>\n",
       "      <td>9078</td>\n",
       "      <td>T</td>\n",
       "      <td>C</td>\n",
       "      <td>synSNP,MT-ATP6,MT-ATP6,exon1,I184I,5,1;</td>\n",
       "      <td>TATCAACCAT</td>\n",
       "      <td>AACCTTCCCT</td>\n",
       "      <td>0</td>\n",
       "    </tr>\n",
       "    <tr>\n",
       "      <th>4</th>\n",
       "      <td>BLCA</td>\n",
       "      <td>9686</td>\n",
       "      <td>T</td>\n",
       "      <td>C</td>\n",
       "      <td>synSNP,MT-CO3,MT-CO3,exon1,I160I,5,5;</td>\n",
       "      <td>ACCAAATAAT</td>\n",
       "      <td>CAAGCACTGC</td>\n",
       "      <td>0</td>\n",
       "    </tr>\n",
       "  </tbody>\n",
       "</table>\n",
       "</div>"
      ],
      "text/plain": [
       "  tissue  position ref var                                    Annot  \\\n",
       "0   BLCA      2680   T   C         ncUTR,MT-RNR2,MT-RNR2,exon1,,,1;   \n",
       "1   BLCA      6011   T   C     synSNP,MT-CO1,MT-CO1,exon1,L36L,5,1;   \n",
       "2   BLCA      7706   G   A      nsSNP,MT-CO2,MT-CO2,exon1,A41T,0,1;   \n",
       "3   BLCA      9078   T   C  synSNP,MT-ATP6,MT-ATP6,exon1,I184I,5,1;   \n",
       "4   BLCA      9686   T   C    synSNP,MT-CO3,MT-CO3,exon1,I160I,5,5;   \n",
       "\n",
       "  Unnamed: 34 Unnamed: 35  is_nonsense  \n",
       "0  CCAGTGAAAT  GACCTGCCCG            0  \n",
       "1  TAAGCCTCCT  ATTCGAGCCG            0  \n",
       "2  AGTCCTGTAT  CCCTTTTCCT            0  \n",
       "3  TATCAACCAT  AACCTTCCCT            0  \n",
       "4  ACCAAATAAT  CAAGCACTGC            0  "
      ]
     },
     "execution_count": 3,
     "metadata": {},
     "output_type": "execute_result"
    }
   ],
   "source": [
    "##### read observed and merge it with annotation in order to annotate\n",
    "path_to_obs = \"../data/external/CancerDataFromCampbell/mtDNA_snv_Oct2016.txt\"\n",
    "_cols = \"position,ref,var,tissue,Annot,Unnamed: 34,Unnamed: 35,is_nonsense\".split(\",\")\n",
    "ObsAll = pd.read_csv(path_to_obs, sep=\"\\t\", usecols=_cols)\n",
    "ObsAll.head()"
   ]
  },
  {
   "cell_type": "code",
   "execution_count": 4,
   "metadata": {},
   "outputs": [
    {
     "data": {
      "text/plain": [
       "0    7330\n",
       "1     281\n",
       "Name: is_nonsense, dtype: int64"
      ]
     },
     "execution_count": 4,
     "metadata": {},
     "output_type": "execute_result"
    }
   ],
   "source": [
    "ObsAll.is_nonsense.value_counts()"
   ]
  },
  {
   "cell_type": "markdown",
   "metadata": {},
   "source": [
    "### \"Expected\" mutspec "
   ]
  },
  {
   "cell_type": "markdown",
   "metadata": {},
   "source": [
    "### Read reference genbank"
   ]
  },
  {
   "cell_type": "code",
   "execution_count": 5,
   "metadata": {},
   "outputs": [
    {
     "name": "stdout",
     "output_type": "stream",
     "text": [
      "(16569, 9)\n"
     ]
    },
    {
     "data": {
      "text/html": [
       "<div>\n",
       "<style scoped>\n",
       "    .dataframe tbody tr th:only-of-type {\n",
       "        vertical-align: middle;\n",
       "    }\n",
       "\n",
       "    .dataframe tbody tr th {\n",
       "        vertical-align: top;\n",
       "    }\n",
       "\n",
       "    .dataframe thead th {\n",
       "        text-align: right;\n",
       "    }\n",
       "</style>\n",
       "<table border=\"1\" class=\"dataframe\">\n",
       "  <thead>\n",
       "    <tr style=\"text-align: right;\">\n",
       "      <th></th>\n",
       "      <th>Pos</th>\n",
       "      <th>Nuc</th>\n",
       "      <th>Context</th>\n",
       "      <th>Strand</th>\n",
       "      <th>Type</th>\n",
       "      <th>GeneName</th>\n",
       "      <th>PosInGene</th>\n",
       "      <th>PosInCodon</th>\n",
       "      <th>Codon</th>\n",
       "    </tr>\n",
       "  </thead>\n",
       "  <tbody>\n",
       "    <tr>\n",
       "      <th>0</th>\n",
       "      <td>1</td>\n",
       "      <td>G</td>\n",
       "      <td>None</td>\n",
       "      <td>-1</td>\n",
       "      <td>D-loop</td>\n",
       "      <td>NaN</td>\n",
       "      <td>-1</td>\n",
       "      <td>-1</td>\n",
       "      <td>NaN</td>\n",
       "    </tr>\n",
       "    <tr>\n",
       "      <th>1</th>\n",
       "      <td>2</td>\n",
       "      <td>A</td>\n",
       "      <td>GAT</td>\n",
       "      <td>-1</td>\n",
       "      <td>D-loop</td>\n",
       "      <td>NaN</td>\n",
       "      <td>-1</td>\n",
       "      <td>-1</td>\n",
       "      <td>NaN</td>\n",
       "    </tr>\n",
       "    <tr>\n",
       "      <th>2</th>\n",
       "      <td>3</td>\n",
       "      <td>T</td>\n",
       "      <td>ATC</td>\n",
       "      <td>-1</td>\n",
       "      <td>D-loop</td>\n",
       "      <td>NaN</td>\n",
       "      <td>-1</td>\n",
       "      <td>-1</td>\n",
       "      <td>NaN</td>\n",
       "    </tr>\n",
       "    <tr>\n",
       "      <th>3</th>\n",
       "      <td>4</td>\n",
       "      <td>C</td>\n",
       "      <td>TCA</td>\n",
       "      <td>-1</td>\n",
       "      <td>D-loop</td>\n",
       "      <td>NaN</td>\n",
       "      <td>-1</td>\n",
       "      <td>-1</td>\n",
       "      <td>NaN</td>\n",
       "    </tr>\n",
       "    <tr>\n",
       "      <th>4</th>\n",
       "      <td>5</td>\n",
       "      <td>A</td>\n",
       "      <td>CAC</td>\n",
       "      <td>-1</td>\n",
       "      <td>D-loop</td>\n",
       "      <td>NaN</td>\n",
       "      <td>-1</td>\n",
       "      <td>-1</td>\n",
       "      <td>NaN</td>\n",
       "    </tr>\n",
       "    <tr>\n",
       "      <th>...</th>\n",
       "      <td>...</td>\n",
       "      <td>...</td>\n",
       "      <td>...</td>\n",
       "      <td>...</td>\n",
       "      <td>...</td>\n",
       "      <td>...</td>\n",
       "      <td>...</td>\n",
       "      <td>...</td>\n",
       "      <td>...</td>\n",
       "    </tr>\n",
       "    <tr>\n",
       "      <th>3995</th>\n",
       "      <td>3996</td>\n",
       "      <td>C</td>\n",
       "      <td>ACA</td>\n",
       "      <td>1</td>\n",
       "      <td>CDS</td>\n",
       "      <td>ND1</td>\n",
       "      <td>690</td>\n",
       "      <td>3</td>\n",
       "      <td>AAC</td>\n",
       "    </tr>\n",
       "    <tr>\n",
       "      <th>3996</th>\n",
       "      <td>3997</td>\n",
       "      <td>A</td>\n",
       "      <td>CAT</td>\n",
       "      <td>1</td>\n",
       "      <td>CDS</td>\n",
       "      <td>ND1</td>\n",
       "      <td>691</td>\n",
       "      <td>1</td>\n",
       "      <td>ATT</td>\n",
       "    </tr>\n",
       "    <tr>\n",
       "      <th>3997</th>\n",
       "      <td>3998</td>\n",
       "      <td>T</td>\n",
       "      <td>ATT</td>\n",
       "      <td>1</td>\n",
       "      <td>CDS</td>\n",
       "      <td>ND1</td>\n",
       "      <td>692</td>\n",
       "      <td>2</td>\n",
       "      <td>ATT</td>\n",
       "    </tr>\n",
       "    <tr>\n",
       "      <th>3998</th>\n",
       "      <td>3999</td>\n",
       "      <td>T</td>\n",
       "      <td>TTA</td>\n",
       "      <td>1</td>\n",
       "      <td>CDS</td>\n",
       "      <td>ND1</td>\n",
       "      <td>693</td>\n",
       "      <td>3</td>\n",
       "      <td>ATT</td>\n",
       "    </tr>\n",
       "    <tr>\n",
       "      <th>3999</th>\n",
       "      <td>4000</td>\n",
       "      <td>A</td>\n",
       "      <td>TAT</td>\n",
       "      <td>1</td>\n",
       "      <td>CDS</td>\n",
       "      <td>ND1</td>\n",
       "      <td>694</td>\n",
       "      <td>1</td>\n",
       "      <td>ATT</td>\n",
       "    </tr>\n",
       "  </tbody>\n",
       "</table>\n",
       "<p>4000 rows × 9 columns</p>\n",
       "</div>"
      ],
      "text/plain": [
       "       Pos Nuc Context  Strand    Type GeneName  PosInGene  PosInCodon Codon\n",
       "0        1   G    None      -1  D-loop      NaN         -1          -1   NaN\n",
       "1        2   A     GAT      -1  D-loop      NaN         -1          -1   NaN\n",
       "2        3   T     ATC      -1  D-loop      NaN         -1          -1   NaN\n",
       "3        4   C     TCA      -1  D-loop      NaN         -1          -1   NaN\n",
       "4        5   A     CAC      -1  D-loop      NaN         -1          -1   NaN\n",
       "...    ...  ..     ...     ...     ...      ...        ...         ...   ...\n",
       "3995  3996   C     ACA       1     CDS      ND1        690           3   AAC\n",
       "3996  3997   A     CAT       1     CDS      ND1        691           1   ATT\n",
       "3997  3998   T     ATT       1     CDS      ND1        692           2   ATT\n",
       "3998  3999   T     TTA       1     CDS      ND1        693           3   ATT\n",
       "3999  4000   A     TAT       1     CDS      ND1        694           1   ATT\n",
       "\n",
       "[4000 rows x 9 columns]"
      ]
     },
     "execution_count": 5,
     "metadata": {},
     "output_type": "execute_result"
    }
   ],
   "source": [
    "path_to_gb = \"../data/external/NC_012920.1.gb\"\n",
    "Ref = read_genbank_ref(path_to_gb)\n",
    "print(Ref.shape)\n",
    "Ref.to_csv(\"../data/processed/ref_annot.csv\", index=None)\n",
    "Ref.head(4000)"
   ]
  },
  {
   "cell_type": "markdown",
   "metadata": {},
   "source": [
    "## Merge only mutations and custom annotation from genbank"
   ]
  },
  {
   "cell_type": "code",
   "execution_count": 6,
   "metadata": {},
   "outputs": [
    {
     "data": {
      "text/html": [
       "<div>\n",
       "<style scoped>\n",
       "    .dataframe tbody tr th:only-of-type {\n",
       "        vertical-align: middle;\n",
       "    }\n",
       "\n",
       "    .dataframe tbody tr th {\n",
       "        vertical-align: top;\n",
       "    }\n",
       "\n",
       "    .dataframe thead th {\n",
       "        text-align: right;\n",
       "    }\n",
       "</style>\n",
       "<table border=\"1\" class=\"dataframe\">\n",
       "  <thead>\n",
       "    <tr style=\"text-align: right;\">\n",
       "      <th></th>\n",
       "      <th>tissue</th>\n",
       "      <th>position</th>\n",
       "      <th>ref</th>\n",
       "      <th>var</th>\n",
       "      <th>Annot</th>\n",
       "      <th>Unnamed: 34</th>\n",
       "      <th>Unnamed: 35</th>\n",
       "      <th>is_nonsense</th>\n",
       "    </tr>\n",
       "  </thead>\n",
       "  <tbody>\n",
       "    <tr>\n",
       "      <th>0</th>\n",
       "      <td>BLCA</td>\n",
       "      <td>2680</td>\n",
       "      <td>T</td>\n",
       "      <td>C</td>\n",
       "      <td>ncUTR,MT-RNR2,MT-RNR2,exon1,,,1;</td>\n",
       "      <td>CCAGTGAAAT</td>\n",
       "      <td>GACCTGCCCG</td>\n",
       "      <td>0</td>\n",
       "    </tr>\n",
       "    <tr>\n",
       "      <th>1</th>\n",
       "      <td>BLCA</td>\n",
       "      <td>6011</td>\n",
       "      <td>T</td>\n",
       "      <td>C</td>\n",
       "      <td>synSNP,MT-CO1,MT-CO1,exon1,L36L,5,1;</td>\n",
       "      <td>TAAGCCTCCT</td>\n",
       "      <td>ATTCGAGCCG</td>\n",
       "      <td>0</td>\n",
       "    </tr>\n",
       "  </tbody>\n",
       "</table>\n",
       "</div>"
      ],
      "text/plain": [
       "  tissue  position ref var                                 Annot Unnamed: 34  \\\n",
       "0   BLCA      2680   T   C      ncUTR,MT-RNR2,MT-RNR2,exon1,,,1;  CCAGTGAAAT   \n",
       "1   BLCA      6011   T   C  synSNP,MT-CO1,MT-CO1,exon1,L36L,5,1;  TAAGCCTCCT   \n",
       "\n",
       "  Unnamed: 35  is_nonsense  \n",
       "0  GACCTGCCCG            0  \n",
       "1  ATTCGAGCCG            0  "
      ]
     },
     "execution_count": 6,
     "metadata": {},
     "output_type": "execute_result"
    }
   ],
   "source": [
    "ObsAll.head(2)"
   ]
  },
  {
   "cell_type": "code",
   "execution_count": 7,
   "metadata": {},
   "outputs": [
    {
     "data": {
      "text/html": [
       "<div>\n",
       "<style scoped>\n",
       "    .dataframe tbody tr th:only-of-type {\n",
       "        vertical-align: middle;\n",
       "    }\n",
       "\n",
       "    .dataframe tbody tr th {\n",
       "        vertical-align: top;\n",
       "    }\n",
       "\n",
       "    .dataframe thead th {\n",
       "        text-align: right;\n",
       "    }\n",
       "</style>\n",
       "<table border=\"1\" class=\"dataframe\">\n",
       "  <thead>\n",
       "    <tr style=\"text-align: right;\">\n",
       "      <th></th>\n",
       "      <th>Pos</th>\n",
       "      <th>Nuc</th>\n",
       "      <th>Context</th>\n",
       "      <th>Strand</th>\n",
       "      <th>Type</th>\n",
       "      <th>GeneName</th>\n",
       "      <th>PosInGene</th>\n",
       "      <th>PosInCodon</th>\n",
       "      <th>Codon</th>\n",
       "    </tr>\n",
       "  </thead>\n",
       "  <tbody>\n",
       "    <tr>\n",
       "      <th>0</th>\n",
       "      <td>1</td>\n",
       "      <td>G</td>\n",
       "      <td>None</td>\n",
       "      <td>-1</td>\n",
       "      <td>D-loop</td>\n",
       "      <td>NaN</td>\n",
       "      <td>-1</td>\n",
       "      <td>-1</td>\n",
       "      <td>NaN</td>\n",
       "    </tr>\n",
       "    <tr>\n",
       "      <th>1</th>\n",
       "      <td>2</td>\n",
       "      <td>A</td>\n",
       "      <td>GAT</td>\n",
       "      <td>-1</td>\n",
       "      <td>D-loop</td>\n",
       "      <td>NaN</td>\n",
       "      <td>-1</td>\n",
       "      <td>-1</td>\n",
       "      <td>NaN</td>\n",
       "    </tr>\n",
       "  </tbody>\n",
       "</table>\n",
       "</div>"
      ],
      "text/plain": [
       "   Pos Nuc Context  Strand    Type GeneName  PosInGene  PosInCodon Codon\n",
       "0    1   G    None      -1  D-loop      NaN         -1          -1   NaN\n",
       "1    2   A     GAT      -1  D-loop      NaN         -1          -1   NaN"
      ]
     },
     "execution_count": 7,
     "metadata": {},
     "output_type": "execute_result"
    }
   ],
   "source": [
    "Ref.head(2)"
   ]
  },
  {
   "cell_type": "code",
   "execution_count": 9,
   "metadata": {},
   "outputs": [],
   "source": [
    "coda = CodonAnnotation(2)"
   ]
  },
  {
   "cell_type": "code",
   "execution_count": null,
   "metadata": {},
   "outputs": [],
   "source": [
    "coda.get_mut_type"
   ]
  },
  {
   "cell_type": "code",
   "execution_count": 23,
   "metadata": {},
   "outputs": [
    {
     "data": {
      "text/html": [
       "<div>\n",
       "<style scoped>\n",
       "    .dataframe tbody tr th:only-of-type {\n",
       "        vertical-align: middle;\n",
       "    }\n",
       "\n",
       "    .dataframe tbody tr th {\n",
       "        vertical-align: top;\n",
       "    }\n",
       "\n",
       "    .dataframe thead th {\n",
       "        text-align: right;\n",
       "    }\n",
       "</style>\n",
       "<table border=\"1\" class=\"dataframe\">\n",
       "  <thead>\n",
       "    <tr style=\"text-align: right;\">\n",
       "      <th></th>\n",
       "      <th>tissue</th>\n",
       "      <th>position</th>\n",
       "      <th>ref</th>\n",
       "      <th>var</th>\n",
       "      <th>Annot</th>\n",
       "      <th>is_nonsense</th>\n",
       "      <th>Pos</th>\n",
       "      <th>Nuc</th>\n",
       "      <th>Context</th>\n",
       "      <th>Strand</th>\n",
       "      <th>Type</th>\n",
       "      <th>GeneName</th>\n",
       "      <th>PosInGene</th>\n",
       "      <th>PosInCodon</th>\n",
       "      <th>Codon</th>\n",
       "      <th>AltCodon</th>\n",
       "      <th>Label</th>\n",
       "    </tr>\n",
       "  </thead>\n",
       "  <tbody>\n",
       "    <tr>\n",
       "      <th>0</th>\n",
       "      <td>BLCA</td>\n",
       "      <td>2680</td>\n",
       "      <td>T</td>\n",
       "      <td>C</td>\n",
       "      <td>ncUTR,MT-RNR2,MT-RNR2,exon1,,,1;</td>\n",
       "      <td>0</td>\n",
       "      <td>2680</td>\n",
       "      <td>T</td>\n",
       "      <td>TTG</td>\n",
       "      <td>1</td>\n",
       "      <td>rRNA</td>\n",
       "      <td>RNR2</td>\n",
       "      <td>-1</td>\n",
       "      <td>-1</td>\n",
       "      <td>NaN</td>\n",
       "      <td>None</td>\n",
       "      <td>0</td>\n",
       "    </tr>\n",
       "    <tr>\n",
       "      <th>1</th>\n",
       "      <td>PAEN</td>\n",
       "      <td>2680</td>\n",
       "      <td>T</td>\n",
       "      <td>C</td>\n",
       "      <td>ncUTR,MT-RNR2,MT-RNR2,exon1,,,1;</td>\n",
       "      <td>0</td>\n",
       "      <td>2680</td>\n",
       "      <td>T</td>\n",
       "      <td>TTG</td>\n",
       "      <td>1</td>\n",
       "      <td>rRNA</td>\n",
       "      <td>RNR2</td>\n",
       "      <td>-1</td>\n",
       "      <td>-1</td>\n",
       "      <td>NaN</td>\n",
       "      <td>None</td>\n",
       "      <td>0</td>\n",
       "    </tr>\n",
       "    <tr>\n",
       "      <th>2</th>\n",
       "      <td>BLCA</td>\n",
       "      <td>6011</td>\n",
       "      <td>T</td>\n",
       "      <td>C</td>\n",
       "      <td>synSNP,MT-CO1,MT-CO1,exon1,L36L,5,1;</td>\n",
       "      <td>0</td>\n",
       "      <td>6011</td>\n",
       "      <td>T</td>\n",
       "      <td>TTA</td>\n",
       "      <td>1</td>\n",
       "      <td>CDS</td>\n",
       "      <td>COX1</td>\n",
       "      <td>108</td>\n",
       "      <td>3</td>\n",
       "      <td>CTT</td>\n",
       "      <td>CTC</td>\n",
       "      <td>2</td>\n",
       "    </tr>\n",
       "    <tr>\n",
       "      <th>3</th>\n",
       "      <td>BLCA</td>\n",
       "      <td>7706</td>\n",
       "      <td>G</td>\n",
       "      <td>A</td>\n",
       "      <td>nsSNP,MT-CO2,MT-CO2,exon1,A41T,0,1;</td>\n",
       "      <td>0</td>\n",
       "      <td>7706</td>\n",
       "      <td>G</td>\n",
       "      <td>TGC</td>\n",
       "      <td>1</td>\n",
       "      <td>CDS</td>\n",
       "      <td>COX2</td>\n",
       "      <td>121</td>\n",
       "      <td>1</td>\n",
       "      <td>GCC</td>\n",
       "      <td>ACC</td>\n",
       "      <td>0</td>\n",
       "    </tr>\n",
       "    <tr>\n",
       "      <th>4</th>\n",
       "      <td>LIRI</td>\n",
       "      <td>7706</td>\n",
       "      <td>G</td>\n",
       "      <td>A</td>\n",
       "      <td>nsSNP,MT-CO2,MT-CO2,exon1,A41T,0,1;</td>\n",
       "      <td>0</td>\n",
       "      <td>7706</td>\n",
       "      <td>G</td>\n",
       "      <td>TGC</td>\n",
       "      <td>1</td>\n",
       "      <td>CDS</td>\n",
       "      <td>COX2</td>\n",
       "      <td>121</td>\n",
       "      <td>1</td>\n",
       "      <td>GCC</td>\n",
       "      <td>ACC</td>\n",
       "      <td>0</td>\n",
       "    </tr>\n",
       "  </tbody>\n",
       "</table>\n",
       "</div>"
      ],
      "text/plain": [
       "  tissue  position ref var                                 Annot  is_nonsense  \\\n",
       "0   BLCA      2680   T   C      ncUTR,MT-RNR2,MT-RNR2,exon1,,,1;            0   \n",
       "1   PAEN      2680   T   C      ncUTR,MT-RNR2,MT-RNR2,exon1,,,1;            0   \n",
       "2   BLCA      6011   T   C  synSNP,MT-CO1,MT-CO1,exon1,L36L,5,1;            0   \n",
       "3   BLCA      7706   G   A   nsSNP,MT-CO2,MT-CO2,exon1,A41T,0,1;            0   \n",
       "4   LIRI      7706   G   A   nsSNP,MT-CO2,MT-CO2,exon1,A41T,0,1;            0   \n",
       "\n",
       "    Pos Nuc Context  Strand  Type GeneName  PosInGene  PosInCodon Codon  \\\n",
       "0  2680   T     TTG       1  rRNA     RNR2         -1          -1   NaN   \n",
       "1  2680   T     TTG       1  rRNA     RNR2         -1          -1   NaN   \n",
       "2  6011   T     TTA       1   CDS     COX1        108           3   CTT   \n",
       "3  7706   G     TGC       1   CDS     COX2        121           1   GCC   \n",
       "4  7706   G     TGC       1   CDS     COX2        121           1   GCC   \n",
       "\n",
       "  AltCodon  Label  \n",
       "0     None      0  \n",
       "1     None      0  \n",
       "2      CTC      2  \n",
       "3      ACC      0  \n",
       "4      ACC      0  "
      ]
     },
     "execution_count": 23,
     "metadata": {},
     "output_type": "execute_result"
    }
   ],
   "source": [
    "def get_alt(ser: pd.Series):\n",
    "    if not isinstance(ser[\"Codon\"], str):\n",
    "        return None\n",
    "    codon = list(ser[\"Codon\"])\n",
    "    ref_nuc, alt_nuc = ser[\"ref\"], ser[\"var\"]\n",
    "    pic = ser[\"PosInCodon\"] - 1\n",
    "    assert codon[pic] == ref_nuc, \"reference nucleotide is not tha same as in codon\"\n",
    "    codon[pic] = alt_nuc\n",
    "    alt_codon = \"\".join(codon)\n",
    "    return alt_codon\n",
    "    \n",
    "ObsAllAnn = pd.merge(\n",
    "    ObsAll[[\"tissue\", \"position\", \"ref\", \"var\", \"Annot\", \"is_nonsense\"]], \n",
    "    Ref, left_on=[\"position\", \"ref\"], right_on=[\"Pos\", \"Nuc\"],\n",
    ")\n",
    "ObsAllAnn[\"AltCodon\"] = ObsAllAnn.apply(get_alt, axis=1)\n",
    "ObsAllAnn[\"Label\"] = ObsAllAnn.apply(\n",
    "    lambda s: 0 if s.PosInCodon <= 0 else coda.get_mut_type(\n",
    "        s.Codon, s.AltCodon, s.PosInCodon - 1)[0], axis=1)\n",
    "\n",
    "ObsAllAnn.head()"
   ]
  },
  {
   "cell_type": "code",
   "execution_count": 24,
   "metadata": {},
   "outputs": [
    {
     "data": {
      "image/png": "[encoded data removed]",
      "text/plain": [
       "<Figure size 648x216 with 1 Axes>"
      ]
     },
     "metadata": {
      "needs_background": "light"
     },
     "output_type": "display_data"
    }
   ],
   "source": [
    "plt.figure(figsize=(9, 3))\n",
    "ObsAllAnn.tissue.value_counts().plot.bar();"
   ]
  },
  {
   "cell_type": "code",
   "execution_count": 25,
   "metadata": {},
   "outputs": [
    {
     "data": {
      "image/png": "[encoded data removed]",
      "text/plain": [
       "<Figure size 648x216 with 1 Axes>"
      ]
     },
     "metadata": {
      "needs_background": "light"
     },
     "output_type": "display_data"
    }
   ],
   "source": [
    "plt.figure(figsize=(9, 3))\n",
    "ObsAllAnn.GeneName.value_counts().plot.bar();"
   ]
  },
  {
   "cell_type": "code",
   "execution_count": 38,
   "metadata": {},
   "outputs": [
    {
     "data": {
      "image/png": "[encoded data removed]",
      "text/plain": [
       "<Figure size 648x216 with 1 Axes>"
      ]
     },
     "metadata": {
      "needs_background": "light"
     },
     "output_type": "display_data"
    }
   ],
   "source": [
    "plt.figure(figsize=(9, 3))\n",
    "ObsAllAnn.Strand.value_counts().plot.bar();"
   ]
  },
  {
   "cell_type": "code",
   "execution_count": 37,
   "metadata": {},
   "outputs": [
    {
     "data": {
      "image/png": "[encoded data removed]",
      "text/plain": [
       "<Figure size 864x288 with 1 Axes>"
      ]
     },
     "metadata": {
      "needs_background": "light"
     },
     "output_type": "display_data"
    }
   ],
   "source": [
    "plt.figure(figsize=(12, 4))\n",
    "plt.title(\"Distribution of mutaions on genome\")\n",
    "plt.xlabel(\"Genome interval\")\n",
    "plt.ylabel(\"Number of mutations\")\n",
    "ObsAllAnn.Pos.hist(bins=200);"
   ]
  },
  {
   "cell_type": "code",
   "execution_count": 26,
   "metadata": {},
   "outputs": [],
   "source": [
    "ObsAllAnn[\"Mut\"] = ObsAllAnn.Context.str.get(0) + \"[\" + ObsAllAnn[\"ref\"] + \">\" + ObsAllAnn[\"var\"] + \"]\" + ObsAllAnn.Context.str.get(-1)"
   ]
  },
  {
   "cell_type": "code",
   "execution_count": 28,
   "metadata": {},
   "outputs": [
    {
     "data": {
      "text/html": [
       "<div>\n",
       "<style scoped>\n",
       "    .dataframe tbody tr th:only-of-type {\n",
       "        vertical-align: middle;\n",
       "    }\n",
       "\n",
       "    .dataframe tbody tr th {\n",
       "        vertical-align: top;\n",
       "    }\n",
       "\n",
       "    .dataframe thead th {\n",
       "        text-align: right;\n",
       "    }\n",
       "</style>\n",
       "<table border=\"1\" class=\"dataframe\">\n",
       "  <thead>\n",
       "    <tr style=\"text-align: right;\">\n",
       "      <th></th>\n",
       "      <th>Pos</th>\n",
       "      <th>Mut</th>\n",
       "      <th>Strand</th>\n",
       "      <th>GeneName</th>\n",
       "      <th>tissue</th>\n",
       "      <th>Label</th>\n",
       "    </tr>\n",
       "  </thead>\n",
       "  <tbody>\n",
       "    <tr>\n",
       "      <th>0</th>\n",
       "      <td>2680</td>\n",
       "      <td>T[T&gt;C]G</td>\n",
       "      <td>1</td>\n",
       "      <td>RNR2</td>\n",
       "      <td>BLCA</td>\n",
       "      <td>0</td>\n",
       "    </tr>\n",
       "    <tr>\n",
       "      <th>1</th>\n",
       "      <td>2680</td>\n",
       "      <td>T[T&gt;C]G</td>\n",
       "      <td>1</td>\n",
       "      <td>RNR2</td>\n",
       "      <td>PAEN</td>\n",
       "      <td>0</td>\n",
       "    </tr>\n",
       "    <tr>\n",
       "      <th>2</th>\n",
       "      <td>6011</td>\n",
       "      <td>T[T&gt;C]A</td>\n",
       "      <td>1</td>\n",
       "      <td>COX1</td>\n",
       "      <td>BLCA</td>\n",
       "      <td>2</td>\n",
       "    </tr>\n",
       "    <tr>\n",
       "      <th>3</th>\n",
       "      <td>7706</td>\n",
       "      <td>T[G&gt;A]C</td>\n",
       "      <td>1</td>\n",
       "      <td>COX2</td>\n",
       "      <td>BLCA</td>\n",
       "      <td>0</td>\n",
       "    </tr>\n",
       "    <tr>\n",
       "      <th>4</th>\n",
       "      <td>7706</td>\n",
       "      <td>T[G&gt;A]C</td>\n",
       "      <td>1</td>\n",
       "      <td>COX2</td>\n",
       "      <td>LIRI</td>\n",
       "      <td>0</td>\n",
       "    </tr>\n",
       "  </tbody>\n",
       "</table>\n",
       "</div>"
      ],
      "text/plain": [
       "    Pos      Mut  Strand GeneName tissue  Label\n",
       "0  2680  T[T>C]G       1     RNR2   BLCA      0\n",
       "1  2680  T[T>C]G       1     RNR2   PAEN      0\n",
       "2  6011  T[T>C]A       1     COX1   BLCA      2\n",
       "3  7706  T[G>A]C       1     COX2   BLCA      0\n",
       "4  7706  T[G>A]C       1     COX2   LIRI      0"
      ]
     },
     "execution_count": 28,
     "metadata": {},
     "output_type": "execute_result"
    }
   ],
   "source": [
    "Mut = ObsAllAnn[[\"Pos\", \"Mut\", \"Strand\", \"GeneName\", \"tissue\", \"Label\"]]\n",
    "Mut.head()"
   ]
  },
  {
   "cell_type": "code",
   "execution_count": null,
   "metadata": {},
   "outputs": [],
   "source": []
  },
  {
   "cell_type": "code",
   "execution_count": null,
   "metadata": {},
   "outputs": [],
   "source": []
  },
  {
   "cell_type": "markdown",
   "metadata": {},
   "source": [
    "Что сделать?\n",
    "+ импортировать(!!!), установив свой пакет мутспек в био-енв, класс для парсинга кодонов\n",
    "+ залить туда функцию парсинга генбанка\n",
    "+ заменить глупые is_syn & is_ff на стандартный лейбл, там лежит функция ~ get_mut_type\n",
    "- получить частоты тринуклеотидов и нуклеотидов простым подсчетом из Ref таблицы\n",
    "- воспользоваться уже написанной функцией подсчета мутспека. Ее нужно подправить - добавить вариант когда нужно считать дискретные состояния, а не вероятности, еще один аргумент"
   ]
  },
  {
   "cell_type": "code",
   "execution_count": null,
   "metadata": {},
   "outputs": [],
   "source": []
  },
  {
   "cell_type": "code",
   "execution_count": null,
   "metadata": {},
   "outputs": [],
   "source": []
  },
  {
   "cell_type": "code",
   "execution_count": null,
   "metadata": {},
   "outputs": [],
   "source": []
  },
  {
   "cell_type": "code",
   "execution_count": null,
   "metadata": {},
   "outputs": [],
   "source": [
    "from Bio import codonalign"
   ]
  },
  {
   "cell_type": "code",
   "execution_count": null,
   "metadata": {},
   "outputs": [],
   "source": [
    "codonalign.CodonAlignment."
   ]
  },
  {
   "cell_type": "code",
   "execution_count": null,
   "metadata": {},
   "outputs": [],
   "source": []
  },
  {
   "cell_type": "code",
   "execution_count": null,
   "metadata": {},
   "outputs": [],
   "source": []
  },
  {
   "cell_type": "code",
   "execution_count": null,
   "metadata": {},
   "outputs": [],
   "source": []
  }
 ],
 "metadata": {
  "interpreter": {
   "hash": "4ec696e130f4ae2e6662888ed4303ac3a720a8940385c9eb6ce9672eff464995"
  },
  "kernelspec": {
   "display_name": "Python 3.8.10 ('env_signatures': venv)",
   "language": "python",
   "name": "python3"
  },
  "language_info": {
   "codemirror_mode": {
    "name": "ipython",
    "version": 3
   },
   "file_extension": ".py",
   "mimetype": "text/x-python",
   "name": "python",
   "nbconvert_exporter": "python",
   "pygments_lexer": "ipython3",
   "version": "3.8.10"
  },
  "orig_nbformat": 4
 },
 "nbformat": 4,
 "nbformat_minor": 2
}
