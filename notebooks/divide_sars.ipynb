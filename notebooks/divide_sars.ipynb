{
 "cells": [
  {
   "cell_type": "code",
   "execution_count": 1,
   "metadata": {},
   "outputs": [],
   "source": [
    "import os\n",
    "import sys\n",
    "from collections import defaultdict\n",
    "from functools import reduce, partial\n",
    "\n",
    "import numpy as np\n",
    "import pandas as pd\n",
    "import matplotlib\n",
    "import matplotlib.pyplot as plt\n",
    "import seaborn as sns\n",
    "\n",
    "import warnings\n",
    "warnings.filterwarnings(\"ignore\")"
   ]
  },
  {
   "cell_type": "code",
   "execution_count": 2,
   "metadata": {},
   "outputs": [],
   "source": [
    "PATH_TO_RAW_SARS = \"../data/raw/sars-cov-2_ff_mutspec_192comp.csv\""
   ]
  },
  {
   "cell_type": "code",
   "execution_count": 3,
   "metadata": {},
   "outputs": [
    {
     "data": {
      "text/html": [
       "<div>\n",
       "<style scoped>\n",
       "    .dataframe tbody tr th:only-of-type {\n",
       "        vertical-align: middle;\n",
       "    }\n",
       "\n",
       "    .dataframe tbody tr th {\n",
       "        vertical-align: top;\n",
       "    }\n",
       "\n",
       "    .dataframe thead th {\n",
       "        text-align: right;\n",
       "    }\n",
       "</style>\n",
       "<table border=\"1\" class=\"dataframe\">\n",
       "  <thead>\n",
       "    <tr style=\"text-align: right;\">\n",
       "      <th></th>\n",
       "      <th>Unnamed: 0</th>\n",
       "      <th>NucSubst</th>\n",
       "      <th>ObsFr</th>\n",
       "      <th>ExpFr</th>\n",
       "      <th>RawMutSpec</th>\n",
       "      <th>MutSpec</th>\n",
       "    </tr>\n",
       "  </thead>\n",
       "  <tbody>\n",
       "    <tr>\n",
       "      <th>0</th>\n",
       "      <td>1</td>\n",
       "      <td>AAA&gt;ACA</td>\n",
       "      <td>NaN</td>\n",
       "      <td>NaN</td>\n",
       "      <td>0.0</td>\n",
       "      <td>0.0</td>\n",
       "    </tr>\n",
       "    <tr>\n",
       "      <th>1</th>\n",
       "      <td>2</td>\n",
       "      <td>AAA&gt;AGA</td>\n",
       "      <td>NaN</td>\n",
       "      <td>NaN</td>\n",
       "      <td>0.0</td>\n",
       "      <td>0.0</td>\n",
       "    </tr>\n",
       "    <tr>\n",
       "      <th>2</th>\n",
       "      <td>3</td>\n",
       "      <td>AAA&gt;AUA</td>\n",
       "      <td>NaN</td>\n",
       "      <td>NaN</td>\n",
       "      <td>0.0</td>\n",
       "      <td>0.0</td>\n",
       "    </tr>\n",
       "    <tr>\n",
       "      <th>3</th>\n",
       "      <td>4</td>\n",
       "      <td>AAC&gt;ACC</td>\n",
       "      <td>NaN</td>\n",
       "      <td>NaN</td>\n",
       "      <td>0.0</td>\n",
       "      <td>0.0</td>\n",
       "    </tr>\n",
       "    <tr>\n",
       "      <th>4</th>\n",
       "      <td>5</td>\n",
       "      <td>AAC&gt;AGC</td>\n",
       "      <td>NaN</td>\n",
       "      <td>NaN</td>\n",
       "      <td>0.0</td>\n",
       "      <td>0.0</td>\n",
       "    </tr>\n",
       "  </tbody>\n",
       "</table>\n",
       "</div>"
      ],
      "text/plain": [
       "   Unnamed: 0 NucSubst  ObsFr  ExpFr  RawMutSpec  MutSpec\n",
       "0           1  AAA>ACA    NaN    NaN         0.0      0.0\n",
       "1           2  AAA>AGA    NaN    NaN         0.0      0.0\n",
       "2           3  AAA>AUA    NaN    NaN         0.0      0.0\n",
       "3           4  AAC>ACC    NaN    NaN         0.0      0.0\n",
       "4           5  AAC>AGC    NaN    NaN         0.0      0.0"
      ]
     },
     "execution_count": 3,
     "metadata": {},
     "output_type": "execute_result"
    }
   ],
   "source": [
    "rawms = pd.read_csv(PATH_TO_RAW_SARS)\n",
    "rawms.head()"
   ]
  },
  {
   "cell_type": "code",
   "execution_count": 4,
   "metadata": {},
   "outputs": [
    {
     "data": {
      "image/png": "[encoded data removed]",
      "text/plain": [
       "<Figure size 432x288 with 1 Axes>"
      ]
     },
     "metadata": {
      "needs_background": "light"
     },
     "output_type": "display_data"
    }
   ],
   "source": [
    "rawms.RawMutSpec.plot.bar();"
   ]
  },
  {
   "cell_type": "markdown",
   "metadata": {},
   "source": [
    "## Rude approach\n",
    "\n",
    "Strand:\n",
    "- 1 - (+)\n",
    "- 0 - (-)"
   ]
  },
  {
   "cell_type": "code",
   "execution_count": 45,
   "metadata": {},
   "outputs": [
    {
     "data": {
      "text/html": [
       "<div>\n",
       "<style scoped>\n",
       "    .dataframe tbody tr th:only-of-type {\n",
       "        vertical-align: middle;\n",
       "    }\n",
       "\n",
       "    .dataframe tbody tr th {\n",
       "        vertical-align: top;\n",
       "    }\n",
       "\n",
       "    .dataframe thead th {\n",
       "        text-align: right;\n",
       "    }\n",
       "</style>\n",
       "<table border=\"1\" class=\"dataframe\">\n",
       "  <thead>\n",
       "    <tr style=\"text-align: right;\">\n",
       "      <th></th>\n",
       "      <th>NucSubst</th>\n",
       "      <th>Strand</th>\n",
       "      <th>sars_cov_2_full</th>\n",
       "      <th>sars_cov_2_plus</th>\n",
       "      <th>sars_cov_2_minus</th>\n",
       "    </tr>\n",
       "  </thead>\n",
       "  <tbody>\n",
       "    <tr>\n",
       "      <th>187</th>\n",
       "      <td>UUG&gt;UCG</td>\n",
       "      <td>1</td>\n",
       "      <td>28.480000</td>\n",
       "      <td>28.480000</td>\n",
       "      <td>0.0</td>\n",
       "    </tr>\n",
       "    <tr>\n",
       "      <th>188</th>\n",
       "      <td>UUG&gt;UGG</td>\n",
       "      <td>1</td>\n",
       "      <td>11.080000</td>\n",
       "      <td>11.080000</td>\n",
       "      <td>0.0</td>\n",
       "    </tr>\n",
       "    <tr>\n",
       "      <th>189</th>\n",
       "      <td>UUU&gt;UAU</td>\n",
       "      <td>1</td>\n",
       "      <td>1.211921</td>\n",
       "      <td>1.211921</td>\n",
       "      <td>0.0</td>\n",
       "    </tr>\n",
       "    <tr>\n",
       "      <th>190</th>\n",
       "      <td>UUU&gt;UCU</td>\n",
       "      <td>1</td>\n",
       "      <td>50.344371</td>\n",
       "      <td>50.344371</td>\n",
       "      <td>0.0</td>\n",
       "    </tr>\n",
       "    <tr>\n",
       "      <th>191</th>\n",
       "      <td>UUU&gt;UGU</td>\n",
       "      <td>1</td>\n",
       "      <td>21.357616</td>\n",
       "      <td>21.357616</td>\n",
       "      <td>0.0</td>\n",
       "    </tr>\n",
       "  </tbody>\n",
       "</table>\n",
       "</div>"
      ],
      "text/plain": [
       "    NucSubst  Strand  sars_cov_2_full  sars_cov_2_plus  sars_cov_2_minus\n",
       "187  UUG>UCG       1        28.480000        28.480000               0.0\n",
       "188  UUG>UGG       1        11.080000        11.080000               0.0\n",
       "189  UUU>UAU       1         1.211921         1.211921               0.0\n",
       "190  UUU>UCU       1        50.344371        50.344371               0.0\n",
       "191  UUU>UGU       1        21.357616        21.357616               0.0"
      ]
     },
     "execution_count": 45,
     "metadata": {},
     "output_type": "execute_result"
    }
   ],
   "source": [
    "ms = rawms[[\"NucSubst\"]]\n",
    "ms[\"Strand\"] = ms.NucSubst.str.get(1).isin([\"T\", \"C\", \"U\"]).astype(int)\n",
    "ms[\"sars_cov_2_full\"] = rawms.RawMutSpec\n",
    "ms[\"sars_cov_2_plus\"]  = ms[\"sars_cov_2_full\"]\n",
    "ms[\"sars_cov_2_minus\"] = ms[\"sars_cov_2_full\"]\n",
    "ms.sars_cov_2_plus.at[ms.Strand == 0] = 0\n",
    "ms.sars_cov_2_minus.at[ms.Strand == 1] = 0\n",
    "\n",
    "ms.tail()"
   ]
  },
  {
   "cell_type": "code",
   "execution_count": 46,
   "metadata": {},
   "outputs": [],
   "source": [
    "ms.drop(\"Strand\", axis=1, inplace=True)\n",
    "\n",
    "ms.to_csv(\"../data/sars-cov-2_192.csv\", index=None)"
   ]
  },
  {
   "cell_type": "markdown",
   "metadata": {},
   "source": [
    "## Math problem\n",
    "\n",
    "<img src=\"https://upload.wikimedia.org/wikipedia/commons/thumb/1/18/Bayes%27_Theorem_MMB_01.jpg/1920px-Bayes%27_Theorem_MMB_01.jpg\" width=200x>"
   ]
  },
  {
   "cell_type": "markdown",
   "metadata": {},
   "source": [
    "**Division of mutational spectra**\n",
    "\n",
    "$P(m|S)=\\frac{P(S|m)P(m)}{P(S)}$\n",
    "\n",
    "$P(m|S) -$ Mutational spectra of each strand - we need to estimate this entity;\n",
    "\n",
    "$P(S|m) -$ Shares of the mutations on each strand - if we observe mutation *m* (e.g. C>T) strand could be heavy or light (plus or minus for viruses) with some probabilities;<br>\n",
    "$P(m) -$ Overall mutational spectra (12 numbers) - already calculated;<br>\n",
    "$P(S) -$ Shares of each strand in the cells/ordanoids (DMVs)\n",
    "\n",
    "For mtDNA:<br>\n",
    "$P(S) = 0.5$<br>\n",
    "$P(S|m) -$ need to consider nucleotide frequencies and basic mutational rate of heavy and light chains (KP knows papers that demonstrate this effect, maybe they estimate mutational rate bias)\n",
    "\n",
    "For Coronavirus:<br>\n",
    "$P(S) = X$ - we should find X estimation of strand representation in papers<br>\n",
    "$P(S|m) -$ need to consider nucleotide frequencies and (-)strand states (paired, low amount of free (-)strand)"
   ]
  },
  {
   "cell_type": "markdown",
   "metadata": {},
   "source": []
  },
  {
   "cell_type": "code",
   "execution_count": null,
   "metadata": {},
   "outputs": [],
   "source": []
  },
  {
   "cell_type": "code",
   "execution_count": null,
   "metadata": {},
   "outputs": [],
   "source": []
  },
  {
   "cell_type": "code",
   "execution_count": null,
   "metadata": {},
   "outputs": [],
   "source": []
  },
  {
   "cell_type": "code",
   "execution_count": null,
   "metadata": {},
   "outputs": [],
   "source": []
  }
 ],
 "metadata": {
  "interpreter": {
   "hash": "efb1518b38127062149af252292eeb09aafe7e419ca1ab28e2bf316ac2f6eb56"
  },
  "kernelspec": {
   "display_name": "Python 3.9.5 ('env_signatures': venv)",
   "language": "python",
   "name": "python3"
  },
  "language_info": {
   "codemirror_mode": {
    "name": "ipython",
    "version": 3
   },
   "file_extension": ".py",
   "mimetype": "text/x-python",
   "name": "python",
   "nbconvert_exporter": "python",
   "pygments_lexer": "ipython3",
   "version": "3.9.5"
  },
  "orig_nbformat": 4
 },
 "nbformat": 4,
 "nbformat_minor": 2
}
