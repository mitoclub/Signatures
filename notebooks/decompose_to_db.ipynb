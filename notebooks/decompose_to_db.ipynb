{
 "cells": [
  {
   "cell_type": "code",
   "execution_count": 11,
   "metadata": {},
   "outputs": [],
   "source": [
    "import SigProfilerAssignment as spa\n",
    "from SigProfilerAssignment import Analyzer as Analyze\n",
    "from SigProfilerAssignment import decomposition as decomp\n",
    "\n",
    "\n",
    "# set directories and paths to signatures and samples\n",
    "dir_inp = \"../data/external/Examples/\"\n",
    "signatures = dir_inp+\"Results_scenario_8/SBS96/All_Solutions/SBS96_3_Signatures/Signatures/SBS96_S3_Signatures.txt\"\n",
    "activities = dir_inp+\"Results_scenario_8/SBS96/All_Solutions/SBS96_3_Signatures/Activities/SBS96_S3_NMF_Activities.txt\"\n",
    "samples = dir_inp+\"Input_scenario_8/Samples.txt\"\n",
    "output = \"../data/output_example_decomp/\"\n",
    "sigs = \"../data/external/COSMIC_v3_SBS_GRCh37_noSBS84-85.txt\"  # Custom Signature Database"
   ]
  },
  {
   "cell_type": "code",
   "execution_count": null,
   "metadata": {},
   "outputs": [],
   "source": [
    "# Analyze.decompose_fit()\n",
    "# Analyze.denovo_fit()\n",
    "# Analyze.cosmic_fit()"
   ]
  },
  {
   "cell_type": "code",
   "execution_count": 2,
   "metadata": {},
   "outputs": [
    {
     "name": "stdout",
     "output_type": "stream",
     "text": [
      "\u001b[0;31mSignature:\u001b[0m\n",
      "\u001b[0mdecomp\u001b[0m\u001b[0;34m.\u001b[0m\u001b[0mspa_analyze\u001b[0m\u001b[0;34m(\u001b[0m\u001b[0;34m\u001b[0m\n",
      "\u001b[0;34m\u001b[0m    \u001b[0msamples\u001b[0m\u001b[0;34m,\u001b[0m\u001b[0;34m\u001b[0m\n",
      "\u001b[0;34m\u001b[0m    \u001b[0moutput\u001b[0m\u001b[0;34m,\u001b[0m\u001b[0;34m\u001b[0m\n",
      "\u001b[0;34m\u001b[0m    \u001b[0msignatures\u001b[0m\u001b[0;34m=\u001b[0m\u001b[0;32mNone\u001b[0m\u001b[0;34m,\u001b[0m\u001b[0;34m\u001b[0m\n",
      "\u001b[0;34m\u001b[0m    \u001b[0msignature_database\u001b[0m\u001b[0;34m=\u001b[0m\u001b[0;32mNone\u001b[0m\u001b[0;34m,\u001b[0m\u001b[0;34m\u001b[0m\n",
      "\u001b[0;34m\u001b[0m    \u001b[0mdecompose_fit_option\u001b[0m\u001b[0;34m=\u001b[0m\u001b[0;32mTrue\u001b[0m\u001b[0;34m,\u001b[0m\u001b[0;34m\u001b[0m\n",
      "\u001b[0;34m\u001b[0m    \u001b[0mdenovo_refit_option\u001b[0m\u001b[0;34m=\u001b[0m\u001b[0;32mTrue\u001b[0m\u001b[0;34m,\u001b[0m\u001b[0;34m\u001b[0m\n",
      "\u001b[0;34m\u001b[0m    \u001b[0mcosmic_fit_option\u001b[0m\u001b[0;34m=\u001b[0m\u001b[0;32mTrue\u001b[0m\u001b[0;34m,\u001b[0m\u001b[0;34m\u001b[0m\n",
      "\u001b[0;34m\u001b[0m    \u001b[0mnnls_add_penalty\u001b[0m\u001b[0;34m=\u001b[0m\u001b[0;36m0.05\u001b[0m\u001b[0;34m,\u001b[0m\u001b[0;34m\u001b[0m\n",
      "\u001b[0;34m\u001b[0m    \u001b[0mnnls_remove_penalty\u001b[0m\u001b[0;34m=\u001b[0m\u001b[0;36m0.01\u001b[0m\u001b[0;34m,\u001b[0m\u001b[0;34m\u001b[0m\n",
      "\u001b[0;34m\u001b[0m    \u001b[0minitial_remove_penalty\u001b[0m\u001b[0;34m=\u001b[0m\u001b[0;36m0.05\u001b[0m\u001b[0;34m,\u001b[0m\u001b[0;34m\u001b[0m\n",
      "\u001b[0;34m\u001b[0m    \u001b[0mde_novo_fit_penalty\u001b[0m\u001b[0;34m=\u001b[0m\u001b[0;36m0.02\u001b[0m\u001b[0;34m,\u001b[0m\u001b[0;34m\u001b[0m\n",
      "\u001b[0;34m\u001b[0m    \u001b[0mgenome_build\u001b[0m\u001b[0;34m=\u001b[0m\u001b[0;34m'GRCh37'\u001b[0m\u001b[0;34m,\u001b[0m\u001b[0;34m\u001b[0m\n",
      "\u001b[0;34m\u001b[0m    \u001b[0mmake_decomposition_plots\u001b[0m\u001b[0;34m=\u001b[0m\u001b[0;32mTrue\u001b[0m\u001b[0;34m,\u001b[0m\u001b[0;34m\u001b[0m\n",
      "\u001b[0;34m\u001b[0m    \u001b[0mcollapse_to_SBS96\u001b[0m\u001b[0;34m=\u001b[0m\u001b[0;32mTrue\u001b[0m\u001b[0;34m,\u001b[0m\u001b[0;34m\u001b[0m\n",
      "\u001b[0;34m\u001b[0m    \u001b[0mconnected_sigs\u001b[0m\u001b[0;34m=\u001b[0m\u001b[0;32mTrue\u001b[0m\u001b[0;34m,\u001b[0m\u001b[0;34m\u001b[0m\n",
      "\u001b[0;34m\u001b[0m    \u001b[0mverbose\u001b[0m\u001b[0;34m=\u001b[0m\u001b[0;32mFalse\u001b[0m\u001b[0;34m,\u001b[0m\u001b[0;34m\u001b[0m\n",
      "\u001b[0;34m\u001b[0m    \u001b[0mdevopts\u001b[0m\u001b[0;34m=\u001b[0m\u001b[0;32mNone\u001b[0m\u001b[0;34m,\u001b[0m\u001b[0;34m\u001b[0m\n",
      "\u001b[0;34m\u001b[0m\u001b[0;34m)\u001b[0m\u001b[0;34m\u001b[0m\u001b[0;34m\u001b[0m\u001b[0m\n",
      "\u001b[0;31mDocstring:\u001b[0m\n",
      "Decomposes the De Novo Signatures into COSMIC Signatures and assigns COSMIC signatures into samples.\n",
      "\n",
      "Parameters: \n",
      "    \n",
      "    signatures: A string. Path to a  tab delimited file that contains the signaure table where the rows are mutation types and colunms are signature IDs. \n",
      "    activities: A string. Path to a tab delimilted file that contains the activity table where the rows are sample IDs and colunms are signature IDs.\n",
      "    samples: A string. Path to a tab delimilted file that contains the activity table where the rows are mutation types and colunms are sample IDs.\n",
      "    output: A string. Path to the output folder.\n",
      "    genome_build = A string. The genome type. Example: \"GRCh37\", \"GRCh38\", \"mm9\", \"mm10\". The default value is \"GRCh37\"\n",
      "    verbose = Boolean. Prints statements. Default value is False. \n",
      "    \n",
      "Values:\n",
      "    The files below will be generated in the output folder. \n",
      "    \n",
      "    Cluster_of_Samples.txt\n",
      "    comparison_with_global_ID_signatures.csv\n",
      "    Decomposed_Solution_Activities.txt\n",
      "    Decomposed_Solution_Samples_stats.txt\n",
      "    Decomposed_Solution_Signatures.txt\n",
      "    decomposition_logfile.txt\n",
      "    dendogram.pdf\n",
      "    Mutation_Probabilities.txt\n",
      "    Signature_assaignment_logfile.txt\n",
      "    Signature_plot[MutatutionContext]_plots_Decomposed_Solution.pdf\n",
      "    \n",
      "Example:\n",
      "    >>>from SigProfilerExtractor import decomposition as decomp\n",
      "    >>>signatures = \"path/to/dDe_Novo_Solution_Signatures.txt\"\n",
      "    >>>activities=\"path/to/De_Novo_Solution_Activities.txt\"\n",
      "    >>>samples=\"path/to/Samples.txt\"\n",
      "    >>>output=\"name or path/to/output.txt\"\n",
      "    decomp.decompose(signatures, activities, samples, output, genome_build=\"GRCh37\", verbose=False)\n",
      "\u001b[0;31mFile:\u001b[0m      ~/signatures/env_signatures/lib/python3.8/site-packages/SigProfilerAssignment/decomposition.py\n",
      "\u001b[0;31mType:\u001b[0m      function\n"
     ]
    }
   ],
   "source": [
    "decomp.spa_analyze?"
   ]
  },
  {
   "cell_type": "code",
   "execution_count": 13,
   "metadata": {},
   "outputs": [
    {
     "name": "stdout",
     "output_type": "stream",
     "text": [
      "../data/external/Examples/Input_scenario_8/Samples.txt\n",
      "../data/output_example_decomp/\n",
      "../data/external/COSMIC_v3_SBS_GRCh37_noSBS84-85.txt\n"
     ]
    }
   ],
   "source": [
    "[print(x) for x in [samples, output, sigs]];"
   ]
  },
  {
   "cell_type": "code",
   "execution_count": 14,
   "metadata": {},
   "outputs": [
    {
     "name": "stdout",
     "output_type": "stream",
     "text": [
      "Assigning COSMIC sigs or Signature Database ...... \n",
      "|████████████████████████████████████████| 1000/1000 [100%] in 4:07.9 (4.03/s) \n"
     ]
    },
    {
     "name": "stderr",
     "output_type": "stream",
     "text": [
      "findfont: Font family ['Times New Roman'] not found. Falling back to DejaVu Sans.\n",
      "findfont: Font family ['Arial'] not found. Falling back to DejaVu Sans.\n",
      "findfont: Font family ['Courier New'] not found. Falling back to DejaVu Sans.\n",
      "findfont: Font family ['Courier New'] not found. Falling back to DejaVu Sans.\n",
      "findfont: Font family ['Arial'] not found. Falling back to DejaVu Sans.\n",
      "findfont: Font family ['Arial'] not found. Falling back to DejaVu Sans.\n"
     ]
    }
   ],
   "source": [
    "#Analysis of SP Assignment \n",
    "Analyze.cosmic_fit(samples, output, signatures=None, signature_database=sigs, genome_build=\"GRCh37\", verbose=False)\n"
   ]
  },
  {
   "cell_type": "code",
   "execution_count": null,
   "metadata": {},
   "outputs": [],
   "source": []
  },
  {
   "cell_type": "code",
   "execution_count": null,
   "metadata": {},
   "outputs": [],
   "source": []
  },
  {
   "cell_type": "code",
   "execution_count": null,
   "metadata": {},
   "outputs": [],
   "source": []
  }
 ],
 "metadata": {
  "interpreter": {
   "hash": "4ec696e130f4ae2e6662888ed4303ac3a720a8940385c9eb6ce9672eff464995"
  },
  "kernelspec": {
   "display_name": "Python 3.8.10 ('env_signatures': venv)",
   "language": "python",
   "name": "python3"
  },
  "language_info": {
   "codemirror_mode": {
    "name": "ipython",
    "version": 3
   },
   "file_extension": ".py",
   "mimetype": "text/x-python",
   "name": "python",
   "nbconvert_exporter": "python",
   "pygments_lexer": "ipython3",
   "version": "3.8.10"
  },
  "orig_nbformat": 4
 },
 "nbformat": 4,
 "nbformat_minor": 2
}
